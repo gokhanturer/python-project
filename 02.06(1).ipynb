{
  "nbformat": 4,
  "nbformat_minor": 5,
  "metadata": {
    "kernelspec": {
      "display_name": "Python 3",
      "language": "python",
      "name": "python3"
    },
    "language_info": {
      "codemirror_mode": {
        "name": "ipython",
        "version": 3
      },
      "file_extension": ".py",
      "mimetype": "text/x-python",
      "name": "python",
      "nbconvert_exporter": "python",
      "pygments_lexer": "ipython3",
      "version": "3.9.4"
    },
    "colab": {
      "name": "Untitled2 (1).ipynb",
      "provenance": [],
      "include_colab_link": true
    }
  },
  "cells": [
    {
      "cell_type": "markdown",
      "metadata": {
        "id": "view-in-github",
        "colab_type": "text"
      },
      "source": [
        "<a href=\"https://colab.research.google.com/github/gokhanturer/python-project/blob/main/02.06(1).ipynb\" target=\"_parent\"><img src=\"https://colab.research.google.com/assets/colab-badge.svg\" alt=\"Open In Colab\"/></a>"
      ]
    },
    {
      "cell_type": "code",
      "metadata": {
        "id": "9106f935",
        "outputId": "814c32fc-1092-457d-81e7-5c18de13322e"
      },
      "source": [
        "given_list = [1, 2, 3]\n",
        "output = []\n",
        "new_list = []\n",
        "new_list.append(given_list[0])\n",
        "output.append(new_list)\n",
        "for i in given_list[1:]:\n",
        "    for j in range(len(output)):\n",
        "        for k in range(len(output[j])+ 1):\n",
        "            newest_list = output[j][:]\n",
        "            newest_list.insert(k, i)\n",
        "            output.append(newest_list)\n",
        "for element in output[:]:\n",
        "        if len(element) < len(output[-1]):\n",
        "            output.remove(element)\n",
        "for i in output:\n",
        "    print(i)\n",
        "print(f\"{len(output)} possible permutations.\")\n"
      ],
      "id": "9106f935",
      "execution_count": null,
      "outputs": [
        {
          "output_type": "stream",
          "text": [
            "[3, 2, 1]\n",
            "[2, 3, 1]\n",
            "[2, 1, 3]\n",
            "[3, 1, 2]\n",
            "[1, 3, 2]\n",
            "[1, 2, 3]\n",
            "6 possible permutations.\n"
          ],
          "name": "stdout"
        }
      ]
    },
    {
      "cell_type": "code",
      "metadata": {
        "id": "d65f2c2c"
      },
      "source": [
        "data = [1, 2, 3]\n",
        "desired = [\n",
        "    [x, y, z]\n",
        "    for x in data\n",
        "    for y in data\n",
        "    for z in data\n",
        "    if (x != y and y != z and x != z)\n",
        "    ]\n",
        "print(desired)"
      ],
      "id": "d65f2c2c",
      "execution_count": null,
      "outputs": []
    },
    {
      "cell_type": "code",
      "metadata": {
        "id": "43d49b5a"
      },
      "source": [
        "liste = [1, 2, 3]\n",
        "result1= []\n",
        "perm = 1  \n",
        "# perm: başlangıçta liste tek elemanlı bile olsa 1 olasılık vardır.\n",
        "for i in range(1, len(liste)+1):\n",
        "    perm = i * perm  \n",
        "# perm : toplam kaç farklı şekilde olabileceğine ilişkin sayı.\n",
        "per = int(perm * 0.5)  \n",
        "# per: toplam değişik listelerin yarısı diğer yarısının tersi olarak yer almaktadır. \n",
        "# o yüzden diğer yarısını en son ekleyeceğim. \n",
        "for i in range(per):\n",
        "# []: toplam değişik listelerin yarısı kadar boş liste ekledim.\n",
        "    result1.append([])\n",
        "for i in range(len(liste)):\n",
        "               for j in result1:\n",
        "                    j.append(0) \n",
        "# [x, x, x, x....]üzerinde rahat çalışmak için, \n",
        "# her bir değişik listeye listedeki toplam eleman kadar boş bir değer atadım. \n",
        "k = 0\n",
        "for i in liste: \n",
        "# bu bölümde tüm listelere birer kaydırararak başlangıçtaki liste elemanlarımı ekledim.  \n",
        "    k += 1\n",
        "    for j in range(per):\n",
        "        if k < len(liste):\n",
        "            result1[j][k] = i\n",
        "            k += 1\n",
        "        else:\n",
        "            k = 0\n",
        "            result1[j][k] = i\n",
        "            k += 1\n",
        "result2 = []\n",
        "for i in result1: \n",
        "# tüm listelerin bir de tersini alıyorum\n",
        "    result2.append(i[::-1])\n",
        "result = result2 + result1 \n",
        "# tersini (perm/2 adet) , düzünü (perm/2 adet) topluyorum.)\n",
        "print(len(result), result, sep = \"\\n\")"
      ],
      "id": "43d49b5a",
      "execution_count": null,
      "outputs": []
    },
    {
      "cell_type": "code",
      "metadata": {
        "id": "1fca80f1"
      },
      "source": [
        "soru = int(input(\"Kaç tane sayı gireceksin? : \"))\n",
        "sayılar = []\n",
        "while len(sayılar) <= soru - 1:\n",
        "    sayı = int(input(\"Sayı gir : \"))\n",
        "    sayılar.append(sayı)\n",
        "print(\"These are the given numbers: \", sayılar)\n",
        "referans = 1\n",
        "for i in range(len(sayılar)):\n",
        "  referans = referans * (i + 1)\n",
        "print(referans, \"farklı olasılık vardır! (n = r) :)\")\n",
        "sonuc = [[]]\n",
        "for i in sayılar:\n",
        "    olasılık = []\n",
        "    for j in sonuc:\n",
        "        for k in range(len(j) + 1):\n",
        "            olasılık.append(j[:k] + [i] + j[k:])\n",
        "            sonuc = olasılık\n",
        "print(*sonuc, sep=\"\\n\")"
      ],
      "id": "1fca80f1",
      "execution_count": null,
      "outputs": []
    },
    {
      "cell_type": "code",
      "metadata": {
        "id": "9f5917e5"
      },
      "source": [
        "l = [1,2,3]\n",
        "l1 = []\n",
        "for i in l:\n",
        "    for j in l:\n",
        "        for k in l:\n",
        "            if i!=j and j!=k and k!=i:\n",
        "                l1.append([i,j,k])\n",
        "print(l1)"
      ],
      "id": "9f5917e5",
      "execution_count": null,
      "outputs": []
    },
    {
      "cell_type": "code",
      "metadata": {
        "id": "9c8441ff"
      },
      "source": [
        "solution = [[]]\n",
        "num = [1,2,3]  # bu listenin permütasyonunu (her ihtimalini) yazdırmamız isteniyor\n",
        "num_set = set(num)\n",
        "for index in range(len(num)) :  # num eleman sayısı kadar iterate et (yani 3 kere)\n",
        "  solution = [i + [j] for i in solution for j in num_set.difference(set(i))]  \n",
        "  print(solution)  # her iterasyon çıktısı\n",
        "solution   # istenen sonuç"
      ],
      "id": "9c8441ff",
      "execution_count": null,
      "outputs": []
    },
    {
      "cell_type": "code",
      "metadata": {
        "id": "bd6225c5"
      },
      "source": [
        "data = [1,1,2,3,2,3]\n",
        "max(list((map(lambda x: data.count(x) , data))))"
      ],
      "id": "bd6225c5",
      "execution_count": null,
      "outputs": []
    },
    {
      "cell_type": "code",
      "metadata": {
        "id": "51970a8b"
      },
      "source": [
        "equal = (lambda *numbers:numbers.count(max(numbers, key=numbers.count)))"
      ],
      "id": "51970a8b",
      "execution_count": null,
      "outputs": []
    },
    {
      "cell_type": "code",
      "metadata": {
        "id": "f5b5d7c9"
      },
      "source": [
        "equall = lambda x,y,z: [x,y,z].count(max([x,y,z], key=[x,y,z].count)) \\\n",
        "          if [x,y,z].count(max([x,y,z], key=[x,y,z].count)) > 1 else 0"
      ],
      "id": "f5b5d7c9",
      "execution_count": null,
      "outputs": []
    }
  ]
}