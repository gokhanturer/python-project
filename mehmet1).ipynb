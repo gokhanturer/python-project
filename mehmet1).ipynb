{
  "nbformat": 4,
  "nbformat_minor": 0,
  "metadata": {
    "colab": {
      "name": "Untitled23 (1).ipynb",
      "provenance": [],
      "collapsed_sections": [],
      "include_colab_link": true
    },
    "kernelspec": {
      "name": "python3",
      "display_name": "Python 3"
    },
    "language_info": {
      "name": "python"
    }
  },
  "cells": [
    {
      "cell_type": "markdown",
      "metadata": {
        "id": "view-in-github",
        "colab_type": "text"
      },
      "source": [
        "<a href=\"https://colab.research.google.com/github/gokhanturer/python-project/blob/main/mehmet1).ipynb\" target=\"_parent\"><img src=\"https://colab.research.google.com/assets/colab-badge.svg\" alt=\"Open In Colab\"/></a>"
      ]
    },
    {
      "cell_type": "markdown",
      "metadata": {
        "id": "ZsXu1bRQzXrR"
      },
      "source": [
        "list\n",
        "append ve extend farki insert()\n",
        "\n",
        "list name [start:stop:step] \n",
        "From 'start' to 'stop-l', by 'step'. \n",
        "\n",
        "range ()\n",
        "\n"
      ]
    },
    {
      "cell_type": "markdown",
      "metadata": {
        "id": "tuDOAvnc0h8r"
      },
      "source": [
        "dict\n",
        "items()\n",
        "keys()\n",
        "values()\n",
        "bu ücü accessing to a dict\n",
        "\n",
        "update() yeni eleman ekleme\n",
        "a.update('isim':'gokhan')\n",
        "\n",
        "in or not in\n",
        "print('isim' in a)"
      ]
    },
    {
      "cell_type": "code",
      "metadata": {
        "id": "6ntiYG5I5S2_"
      },
      "source": [
        "thisdict = {\n",
        "  \"brand\": \"Ford\",\n",
        "  \"model\": \"Mustang\",\n",
        "  \"year\": 1964\n",
        "}\n",
        "x = thisdict[\"model\"]\n",
        "\n",
        "x = thisdict.get(\"model\")"
      ],
      "execution_count": null,
      "outputs": []
    },
    {
      "cell_type": "code",
      "metadata": {
        "id": "FrMZIeYx5iBb",
        "colab": {
          "base_uri": "https://localhost:8080/"
        },
        "outputId": "9b8c0a7b-fc00-48c6-c766-50c16e8852ed"
      },
      "source": [
        "\n",
        "\n",
        "thisdict = {\n",
        "  \"brand\": \"Ford\",\n",
        "  \"model\": \"Mustang\",\n",
        "  \"year\": 1964\n",
        "}\n",
        "thisdict.update({\"year\": 2020})"
      ],
      "execution_count": null,
      "outputs": [
        {
          "output_type": "stream",
          "text": [
            "dict_items([('brand', 'Ford'), ('model', 'Mustang'), ('year', 2018)])\n"
          ],
          "name": "stdout"
        }
      ]
    },
    {
      "cell_type": "code",
      "metadata": {
        "id": "DBfoKjjX5y_g",
        "colab": {
          "base_uri": "https://localhost:8080/"
        },
        "outputId": "66112273-730c-4b2f-922f-46b52ce1921f"
      },
      "source": [
        "#to remove an item\n",
        "\n",
        "thisdict = {\n",
        "  \"brand\": \"Ford\",\n",
        "  \"model\": \"Mustang\",\n",
        "  \"year\": 1964\n",
        "}\n",
        "thisdict.pop(\"model\")\n",
        "print(thisdict)"
      ],
      "execution_count": null,
      "outputs": [
        {
          "output_type": "stream",
          "text": [
            "{'brand': 'Ford', 'year': 1964}\n"
          ],
          "name": "stdout"
        }
      ]
    },
    {
      "cell_type": "code",
      "metadata": {
        "id": "5tXttml159Mp",
        "colab": {
          "base_uri": "https://localhost:8080/"
        },
        "outputId": "37fbaf73-e1af-48aa-f3ef-3415e5bc9743"
      },
      "source": [
        "#The popitem() method removes the last inserted item \n",
        "thisdict = {\n",
        "  \"brand\": \"Ford\",\n",
        "  \"model\": \"Mustang\",\n",
        "  \"year\": 1964\n",
        "}\n",
        "thisdict.popitem()\n",
        "print(thisdict)"
      ],
      "execution_count": null,
      "outputs": [
        {
          "output_type": "stream",
          "text": [
            "{'brand': 'Ford', 'model': 'Mustang'}\n"
          ],
          "name": "stdout"
        }
      ]
    },
    {
      "cell_type": "code",
      "metadata": {
        "colab": {
          "base_uri": "https://localhost:8080/"
        },
        "id": "IP23FK5K6Tqy",
        "outputId": "50355a17-2083-461e-9528-e0098316561d"
      },
      "source": [
        "#loop in a dict\n",
        "\n",
        "thisdict =\t{\n",
        "  \"brand\": \"Ford\",\n",
        "  \"model\": \"Mustang\",\n",
        "  \"year\": 1964\n",
        "}\n",
        "for x in thisdict.keys():\n",
        "  print(x)"
      ],
      "execution_count": null,
      "outputs": [
        {
          "output_type": "stream",
          "text": [
            "brand\n",
            "model\n",
            "year\n"
          ],
          "name": "stdout"
        }
      ]
    },
    {
      "cell_type": "code",
      "metadata": {
        "id": "l0vJm3Df6hNF"
      },
      "source": [
        ""
      ],
      "execution_count": null,
      "outputs": []
    },
    {
      "cell_type": "code",
      "metadata": {
        "id": "Q-6EhvOK6qHG"
      },
      "source": [
        ""
      ],
      "execution_count": null,
      "outputs": []
    },
    {
      "cell_type": "code",
      "metadata": {
        "id": "Hz5-v66X7Dsh",
        "colab": {
          "base_uri": "https://localhost:8080/"
        },
        "outputId": "66cce19e-c10f-49cc-df6d-697b93c7f728"
      },
      "source": [
        "fruits = [\"apple\", \"banana\", \"cherry\",\"banana\"]\n",
        "for i in range(len(fruits)):\n",
        "  if fruits.count(fruits[i])>1:\n",
        "    fruits[i]=fruits[i]+\"s\"\n",
        "fruits   \n",
        "\n",
        "\n",
        "    "
      ],
      "execution_count": null,
      "outputs": [
        {
          "output_type": "execute_result",
          "data": {
            "text/plain": [
              "['apple', 'bananas', 'cherry', 'banana']"
            ]
          },
          "metadata": {
            "tags": []
          },
          "execution_count": 27
        }
      ]
    },
    {
      "cell_type": "code",
      "metadata": {
        "id": "vKDqkj4B7KJW",
        "colab": {
          "base_uri": "https://localhost:8080/"
        },
        "outputId": "7d075848-80d4-4fa2-bb30-0b39be89be0e"
      },
      "source": [
        "#Do not print banana:\n",
        "\n",
        "fruits = [\"apple\", \"banana\", \"cherry\"]\n",
        "for x in fruits:\n",
        "  if x == \"banana\":\n",
        "    continue\n",
        "  print(x)"
      ],
      "execution_count": null,
      "outputs": [
        {
          "output_type": "stream",
          "text": [
            "apple\n",
            "cherry\n"
          ],
          "name": "stdout"
        }
      ]
    },
    {
      "cell_type": "code",
      "metadata": {
        "id": "wxU4jVmQ7S8h",
        "colab": {
          "base_uri": "https://localhost:8080/"
        },
        "outputId": "9004baa9-4c70-4b2c-8a48-1795f108a065"
      },
      "source": [
        "for x in range(len(fruits)):\n",
        "  print(fruits[x])"
      ],
      "execution_count": null,
      "outputs": [
        {
          "output_type": "stream",
          "text": [
            "0\n",
            "1\n",
            "2\n",
            "3\n",
            "4\n",
            "5\n"
          ],
          "name": "stdout"
        }
      ]
    },
    {
      "cell_type": "code",
      "metadata": {
        "id": "PV4AMwIO7agY"
      },
      "source": [
        "##The else keyword in a for loop specifies a block of code to be executed when the loop is finished:\n",
        "\n",
        "##Example\n",
        "##Print all numbers from 0 to 5, and print a message when the loop has ended:\n",
        "#Note: The else block will NOT be executed if the loop is stopped by a break statement.\n",
        "\n",
        "for x in range(6):\n",
        "  print(x)\n",
        "else:\n",
        "  print(\"Finally finished!\")\n"
      ],
      "execution_count": null,
      "outputs": []
    },
    {
      "cell_type": "code",
      "metadata": {
        "id": "aTjCYDci7oCp"
      },
      "source": [
        ""
      ],
      "execution_count": null,
      "outputs": []
    }
  ]
}