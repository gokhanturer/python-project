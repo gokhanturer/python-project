{
  "nbformat": 4,
  "nbformat_minor": 5,
  "metadata": {
    "kernelspec": {
      "display_name": "Python 3",
      "language": "python",
      "name": "python3"
    },
    "language_info": {
      "codemirror_mode": {
        "name": "ipython",
        "version": 3
      },
      "file_extension": ".py",
      "mimetype": "text/x-python",
      "name": "python",
      "nbconvert_exporter": "python",
      "pygments_lexer": "ipython3",
      "version": "3.8.8"
    },
    "colab": {
      "name": "missing_number.ipynb",
      "provenance": [],
      "include_colab_link": true
    }
  },
  "cells": [
    {
      "cell_type": "markdown",
      "metadata": {
        "id": "view-in-github",
        "colab_type": "text"
      },
      "source": [
        "<a href=\"https://colab.research.google.com/github/gokhanturer/python-project/blob/main/missing_number.ipynb\" target=\"_parent\"><img src=\"https://colab.research.google.com/assets/colab-badge.svg\" alt=\"Open In Colab\"/></a>"
      ]
    },
    {
      "cell_type": "code",
      "metadata": {
        "id": "2e77fec8",
        "outputId": "1a31ab22-0ce4-4c07-9dc7-0bd7937914ff"
      },
      "source": [
        "liste=[2, 5, 8 ,7 , 4, 3, 1 ]\n",
        "new_liste=range(max(liste))\n",
        "\n",
        "for i in new_liste:\n",
        "        if new_liste[i] == liste[i] :\n",
        "            continue\n",
        "        else: print(i)\n",
        "            \n",
        "    \n",
        "    "
      ],
      "id": "2e77fec8",
      "execution_count": null,
      "outputs": [
        {
          "output_type": "stream",
          "text": [
            "0\n",
            "1\n",
            "2\n",
            "3\n",
            "5\n",
            "6\n"
          ],
          "name": "stdout"
        },
        {
          "output_type": "error",
          "ename": "IndexError",
          "evalue": "list index out of range",
          "traceback": [
            "\u001b[0;31m---------------------------------------------------------------------------\u001b[0m",
            "\u001b[0;31mIndexError\u001b[0m                                Traceback (most recent call last)",
            "\u001b[0;32m<ipython-input-3-0129e9c48650>\u001b[0m in \u001b[0;36m<module>\u001b[0;34m\u001b[0m\n\u001b[1;32m      3\u001b[0m \u001b[0;34m\u001b[0m\u001b[0m\n\u001b[1;32m      4\u001b[0m \u001b[0;32mfor\u001b[0m \u001b[0mi\u001b[0m \u001b[0;32min\u001b[0m \u001b[0mnew_liste\u001b[0m\u001b[0;34m:\u001b[0m\u001b[0;34m\u001b[0m\u001b[0;34m\u001b[0m\u001b[0m\n\u001b[0;32m----> 5\u001b[0;31m         \u001b[0;32mif\u001b[0m \u001b[0mnew_liste\u001b[0m\u001b[0;34m[\u001b[0m\u001b[0mi\u001b[0m\u001b[0;34m]\u001b[0m \u001b[0;34m==\u001b[0m \u001b[0mliste\u001b[0m\u001b[0;34m[\u001b[0m\u001b[0mi\u001b[0m\u001b[0;34m]\u001b[0m \u001b[0;34m:\u001b[0m\u001b[0;34m\u001b[0m\u001b[0;34m\u001b[0m\u001b[0m\n\u001b[0m\u001b[1;32m      6\u001b[0m             \u001b[0;32mcontinue\u001b[0m\u001b[0;34m\u001b[0m\u001b[0;34m\u001b[0m\u001b[0m\n\u001b[1;32m      7\u001b[0m         \u001b[0;32melse\u001b[0m\u001b[0;34m:\u001b[0m \u001b[0mprint\u001b[0m\u001b[0;34m(\u001b[0m\u001b[0mi\u001b[0m\u001b[0;34m)\u001b[0m\u001b[0;34m\u001b[0m\u001b[0;34m\u001b[0m\u001b[0m\n",
            "\u001b[0;31mIndexError\u001b[0m: list index out of range"
          ]
        }
      ]
    },
    {
      "cell_type": "code",
      "metadata": {
        "id": "06260243",
        "outputId": "0755522b-efc0-414f-b5d6-8b296888b254"
      },
      "source": [
        "liste=[2, 5, 8 ,7 , 4, 3, 1 ]\n",
        "new_liste=range(min(liste), max(liste))\n",
        "print(\"absent_number is : {} \".format(set(new_liste) - set(liste)))\n"
      ],
      "id": "06260243",
      "execution_count": null,
      "outputs": [
        {
          "output_type": "stream",
          "text": [
            "absent_number is : {6} \n"
          ],
          "name": "stdout"
        }
      ]
    },
    {
      "cell_type": "code",
      "metadata": {
        "id": "eaff7bd9",
        "outputId": "ef28e766-ca92-487d-c8c4-0074b9362d67"
      },
      "source": [
        "lista = [2, 5, 8 ,7 , 4, 3, 1 ] \n",
        "listb = list(range(min(lista),max(lista)+1))\n",
        "for i in listb:\n",
        "    if i not in lista:\n",
        "        print(i, \" is the missing num\")"
      ],
      "id": "eaff7bd9",
      "execution_count": null,
      "outputs": [
        {
          "output_type": "stream",
          "text": [
            "6  is the missing num\n"
          ],
          "name": "stdout"
        }
      ]
    },
    {
      "cell_type": "code",
      "metadata": {
        "id": "63c32b04",
        "outputId": "6c044d26-4ee1-48f4-fa9a-04eb9029e5a5"
      },
      "source": [
        "liste = [h,d,a,b,f,c,e]\n",
        "new_liste=range(max(ord(liste))\n",
        "print(new_liste)\n"
      ],
      "id": "63c32b04",
      "execution_count": null,
      "outputs": [
        {
          "output_type": "error",
          "ename": "SyntaxError",
          "evalue": "invalid syntax (<ipython-input-3-7a2596d502fd>, line 3)",
          "traceback": [
            "\u001b[0;36m  File \u001b[0;32m\"<ipython-input-3-7a2596d502fd>\"\u001b[0;36m, line \u001b[0;32m3\u001b[0m\n\u001b[0;31m    print(new_liste)\u001b[0m\n\u001b[0m    ^\u001b[0m\n\u001b[0;31mSyntaxError\u001b[0m\u001b[0;31m:\u001b[0m invalid syntax\n"
          ]
        }
      ]
    },
    {
      "cell_type": "code",
      "metadata": {
        "id": "53483754",
        "outputId": "35846bb1-1f80-4f0a-b508-5205f357d281"
      },
      "source": [
        "liste = ['h','d','a','b','f','c','e']\n",
        "new_liste=list(map(chr, range(97, 105)))\n",
        "print(\"absent_letter is : {} \".format(set(new_liste) - set(liste)))\n",
        "\n"
      ],
      "id": "53483754",
      "execution_count": null,
      "outputs": [
        {
          "output_type": "stream",
          "text": [
            "absent_letter is : {'g'} \n"
          ],
          "name": "stdout"
        }
      ]
    },
    {
      "cell_type": "code",
      "metadata": {
        "id": "7d3db720",
        "outputId": "78fe6118-e36e-4025-f290-241994740bc9"
      },
      "source": [
        "liste = ['h','d','a','b','f','c','e']\n",
        "asc=[]\n",
        "for i in liste:\n",
        "    asc.extend(ord(number) for number in i)  \n",
        "new_liste=list(map(chr, range(min(asc), max(asc))))\n",
        "print(\"absent_letter is : {} \".format(set(new_liste) - set(liste)))"
      ],
      "id": "7d3db720",
      "execution_count": null,
      "outputs": [
        {
          "output_type": "stream",
          "text": [
            "absent_letter is : {'g'} \n"
          ],
          "name": "stdout"
        }
      ]
    },
    {
      "cell_type": "code",
      "metadata": {
        "id": "c2e4d553"
      },
      "source": [
        "liste = ['h','d','a','b','f','c','e']\n",
        "asc=[]\n",
        "for i in liste:\n",
        "    asc.extend(ord(number) for number in i)  \n",
        "new_liste=list(map(chr, range(min(asc), max(asc))))\n",
        "print(\"absent_letter is : {} \".format(set(new_liste) - set(liste)))"
      ],
      "id": "c2e4d553",
      "execution_count": null,
      "outputs": []
    }
  ]
}