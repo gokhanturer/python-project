{
  "nbformat": 4,
  "nbformat_minor": 0,
  "metadata": {
    "colab": {
      "name": "Untitled0.ipynb",
      "provenance": [],
      "authorship_tag": "ABX9TyMpqAAmSwleVH2S+JEVrzq9",
      "include_colab_link": true
    },
    "kernelspec": {
      "name": "python3",
      "display_name": "Python 3"
    }
  },
  "cells": [
    {
      "cell_type": "markdown",
      "metadata": {
        "id": "view-in-github",
        "colab_type": "text"
      },
      "source": [
        "<a href=\"https://colab.research.google.com/github/gokhanturer/python-project/blob/main/mehmet.ipynb\" target=\"_parent\"><img src=\"https://colab.research.google.com/assets/colab-badge.svg\" alt=\"Open In Colab\"/></a>"
      ]
    },
    {
      "cell_type": "code",
      "metadata": {
        "colab": {
          "base_uri": "https://localhost:8080/"
        },
        "id": "JVx4o18LVVK5",
        "outputId": "dabd06d5-4fed-4612-8cac-4af7e78958fa"
      },
      "source": [
        "fruits = [\"apple\", \"banana\", \"cherry\"]\n",
        "fruits.remove(\"cherry\")\n",
        "fruits"
      ],
      "execution_count": 1,
      "outputs": [
        {
          "output_type": "execute_result",
          "data": {
            "text/plain": [
              "['apple', 'banana']"
            ]
          },
          "metadata": {
            "tags": []
          },
          "execution_count": 1
        }
      ]
    },
    {
      "cell_type": "code",
      "metadata": {
        "colab": {
          "base_uri": "https://localhost:8080/"
        },
        "id": "fkdK8sGzV8vV",
        "outputId": "6d99cb99-5454-4be3-dab3-af3ccd0774c4"
      },
      "source": [
        "\n",
        "fruits.pop(2)\n",
        "fruits"
      ],
      "execution_count": 2,
      "outputs": [
        {
          "output_type": "execute_result",
          "data": {
            "text/plain": [
              "['apple', 'banana']"
            ]
          },
          "metadata": {
            "tags": []
          },
          "execution_count": 2
        }
      ]
    },
    {
      "cell_type": "code",
      "metadata": {
        "colab": {
          "base_uri": "https://localhost:8080/"
        },
        "id": "SQQoJ6kFWIYf",
        "outputId": "e7df7bb5-411b-4441-8343-8a399c76a84e"
      },
      "source": [
        "abbas = [\"apple\", \"banana\", \"cherry\"]\n",
        "abbas.append(\"banana\")\n",
        "abbas.insert(2,\"cherry\")\n",
        "def plural(fruits):\n",
        "\n",
        "        fruitnew = []\n",
        "\n",
        "        for i in range(len(fruits)) :\n",
        "          if fruits.count(fruits[i]) > 1:\n",
        "             fruitnew.append(fruits[i] + \"s\") \n",
        "          else:\n",
        "             fruitnew.append(fruits[i])\n",
        "\n",
        "    \n",
        "\n",
        "        return (set(fruitnew))\n",
        "\n",
        "\n",
        "plural(abbas)"
      ],
      "execution_count": 25,
      "outputs": [
        {
          "output_type": "execute_result",
          "data": {
            "text/plain": [
              "{'apple', 'bananas', 'cherrys'}"
            ]
          },
          "metadata": {
            "tags": []
          },
          "execution_count": 25
        }
      ]
    }
  ]
}